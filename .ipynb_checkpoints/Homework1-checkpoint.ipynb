{
 "cells": [
  {
   "cell_type": "markdown",
   "metadata": {},
   "source": [
    "# Homework 1"
   ]
  },
  {
   "cell_type": "markdown",
   "metadata": {},
   "source": [
    "### Question 1"
   ]
  },
  {
   "cell_type": "markdown",
   "metadata": {},
   "source": [
    "#### Speed Test"
   ]
  },
  {
   "cell_type": "markdown",
   "metadata": {},
   "source": [
    "##### Using ClpSolver()"
   ]
  },
  {
   "cell_type": "code",
   "execution_count": 61,
   "metadata": {
    "collapsed": false
   },
   "outputs": [
    {
     "name": "stdout",
     "output_type": "stream",
     "text": [
      "  1.209625 seconds (360.03 k allocations: 24.112 MiB, 0.42% gc time)\n",
      "value of x1 = 3.0\n",
      "value of x2 = 0.0\n",
      "value of x3 = 3.0\n",
      "Optimal value of objective function = 48.0\n"
     ]
    }
   ],
   "source": [
    "using JuMP, Clp,ECOS, SCS\n",
    "\n",
    "\n",
    "m = Model()\n",
    "\n",
    "@variable(m, 0 <= x1 <= 3)\n",
    "@variable(m, 0 <= x2 <= 3)\n",
    "@variable(m, 0 <= x3 <= 3)\n",
    "@constraint(m, 2x1 - x2 - x3 >= 0)\n",
    "@objective(m, Max, 5x1 - x2 + 11x3)\n",
    "\n",
    "\n",
    "setsolver(m, ClpSolver())\n",
    "@time(for i in 1:10000\n",
    "        solve(m)\n",
    "    end)\n",
    "\n",
    "println(\"value of x1 = \", getvalue(x1))\n",
    "println(\"value of x2 = \", getvalue(x2))\n",
    "println(\"value of x3 = \", getvalue(x3))\n",
    "println(\"Optimal value of objective function = \", getobjectivevalue(m))"
   ]
  },
  {
   "cell_type": "markdown",
   "metadata": {},
   "source": [
    "##### Using ECOSSolver()"
   ]
  },
  {
   "cell_type": "code",
   "execution_count": 62,
   "metadata": {
    "collapsed": false
   },
   "outputs": [
    {
     "name": "stdout",
     "output_type": "stream",
     "text": [
      "  1.667427 seconds (4.89 M allocations: 279.090 MiB, 4.24% gc time)\n",
      "value of x1 = 2.999999998571697\n",
      "value of x2 = 8.223270011736391e-9\n",
      "value of x3 = 3.0000000001977236\n",
      "Optimal value of objective function = 47.999999986810174\n"
     ]
    }
   ],
   "source": [
    "setsolver(m, ECOSSolver(verbose = 0))\n",
    "@time(for i in 1:10000\n",
    "         solve(m)\n",
    "    end)\n",
    "    \n",
    "\n",
    "println(\"value of x1 = \", getvalue(x1))\n",
    "println(\"value of x2 = \", getvalue(x2))\n",
    "println(\"value of x3 = \", getvalue(x3))\n",
    "println(\"Optimal value of objective function = \", getobjectivevalue(m))"
   ]
  },
  {
   "cell_type": "markdown",
   "metadata": {},
   "source": [
    "##### Using SCSSolver()"
   ]
  },
  {
   "cell_type": "code",
   "execution_count": 63,
   "metadata": {
    "collapsed": false
   },
   "outputs": [
    {
     "name": "stdout",
     "output_type": "stream",
     "text": [
      "  1.818546 seconds (3.93 M allocations: 228.582 MiB, 2.87% gc time)\n",
      "value of x1 = 2.999985652990818\n",
      "value of x2 = 4.149724928776938e-6\n",
      "value of x3 = 3.0000130627112176\n",
      "Optimal value of objective function = 48.00006780505256\n"
     ]
    }
   ],
   "source": [
    "setsolver(m, SCSSolver(verbose = 0))\n",
    "@time(for i in 1:10000\n",
    "         solve(m)\n",
    "    end)\n",
    "\n",
    "\n",
    "println(\"value of x1 = \", getvalue(x1))\n",
    "println(\"value of x2 = \", getvalue(x2))\n",
    "println(\"value of x3 = \", getvalue(x3))\n",
    "println(\"Optimal value of objective function = \", getobjectivevalue(m))"
   ]
  },
  {
   "cell_type": "markdown",
   "metadata": {},
   "source": [
    "#### Accuracy Test"
   ]
  },
  {
   "cell_type": "code",
   "execution_count": 64,
   "metadata": {
    "collapsed": false
   },
   "outputs": [
    {
     "name": "stdout",
     "output_type": "stream",
     "text": [
      "maximum value thorugh manual method = 48\n",
      "value of x1 = 3\n",
      "value of x2 = 0\n",
      "value of x3 = 3\n"
     ]
    }
   ],
   "source": [
    "vals = []\n",
    "for x in 0:3\n",
    "    for y in 0:3\n",
    "        for z in 0:3\n",
    "            if 2x - y - z >= 0\n",
    "                push!(vals, [x,y,z])\n",
    "            end\n",
    "        end\n",
    "    end\n",
    "end\n",
    "\n",
    "\n",
    "\n",
    "vals2 = []\n",
    "max = 0\n",
    "max_values = 0\n",
    "for i in 1:length(vals)\n",
    "    values = vals[i]\n",
    "    if 5*values[1] - values[2] + 11*values[3] > max\n",
    "        max = 5*values[1] - values[2] + 11*values[3]\n",
    "        max_values = values\n",
    "    end\n",
    "end\n",
    "\n",
    "\n",
    "\n",
    "println(\"maximum value thorugh manual method = \", max)\n",
    "println(\"value of x1 = \", max_values[1])\n",
    "println(\"value of x2 = \", max_values[2])\n",
    "println(\"value of x3 = \", max_values[3])"
   ]
  },
  {
   "cell_type": "markdown",
   "metadata": {},
   "source": [
    "#### Analysis of Speed and Accuracy\n",
    "\n",
    "* We can see that the solvers are in increasing order of speeds : Clp < ECOS < SCS. This is because the ECOS and SCS solvers reduce the problem into an LP. Since the solvers increase in terms of generality in the order : Clp, ECOS, SCS. We must expect them to perform slower as the generality increases.\n",
    "* Upon solving the same LP manually, we notice that we obtain exact solutions for the maximum optimal value and the values of x1, x2, x3 which perfectly match the values obtained by the ClpSolver(). Hence, ClpSolver() is the more accurate for this problem. After Clp, we notice that ECOS and SCS are less accurate in that order.\n"
   ]
  },
  {
   "cell_type": "markdown",
   "metadata": {},
   "source": [
    "\n",
    "### Question 2"
   ]
  },
  {
   "cell_type": "markdown",
   "metadata": {},
   "source": [
    "Let w be the number of acres of land allocated for wheat crops\n",
    "Let c be the number of acres of land allocated for corn crops\n",
    "\n",
    "Then the following constraints apply\n",
    "$$\n",
    "3w + 2c <= 100 \n",
    "$$\n",
    "$$\n",
    "2w + 4c <= 120\n",
    "$$\n",
    "$$\n",
    "w + c = 45\n",
    "$$\n",
    "$$\n",
    "0 <= w <= 45\n",
    "$$\n",
    "$$\n",
    " 0 <= c <= 45\n",
    "$$\n",
    "\n",
    "The equation to maximize will be \n",
    "$$\n",
    " p = 200w + 300c\n",
    "$$"
   ]
  },
  {
   "cell_type": "markdown",
   "metadata": {},
   "source": [
    "##### Part (a)"
   ]
  },
  {
   "cell_type": "code",
   "execution_count": 72,
   "metadata": {
    "collapsed": false
   },
   "outputs": [
    {
     "name": "stdout",
     "output_type": "stream",
     "text": [
      "Optimal\n",
      "Allocate 19.99999999999999 acres of wheat\n",
      "Allocate 20.000000000000007 acres of corn\n",
      "Total profit is $10000.0\n"
     ]
    }
   ],
   "source": [
    "using JuMP, Clp\n",
    "\n",
    "m = Model(solver = ClpSolver())\n",
    "\n",
    "@variable(m, 0 <= w <= 45) # acres of land for wheat\n",
    "@variable(m, 0 <= c <= 45) # acres of land for corn\n",
    "@constraint(m, 3w + 2c <= 100) # number of workers\n",
    "@constraint(m, 2w + 4c <= 120) # tons of fertilizer\n",
    "@constraint(m, w + c <= 45) # acres of land\n",
    "@objective(m, Max, 200w + 300c)\n",
    "\n",
    "status = solve(m)\n",
    "\n",
    "println(status)\n",
    "println(\"Allocate \", getvalue(w),\" acres of wheat\")\n",
    "println(\"Allocate \",getvalue(c),\" acres of corn\")\n",
    "println(\"Total profit is \\$\", getobjectivevalue(m))\n"
   ]
  },
  {
   "cell_type": "markdown",
   "metadata": {},
   "source": [
    "##### Part (b)"
   ]
  },
  {
   "cell_type": "code",
   "execution_count": 69,
   "metadata": {
    "collapsed": false
   },
   "outputs": [],
   "source": [
    "# list the crops\n",
    "crops = [\":wheat\", \":corn\"]\n",
    "\n",
    "# list the requirements to tend to a single acre \n",
    "reqs = [\":labor\",\":fertilizer\", \":land_acres\"]\n",
    "\n",
    "# profit\n",
    "profit = Dict(zip(crops, [200,300]))\n",
    "\n",
    "# quantities\n",
    "quant_avail = Dict(zip(reqs, [100, 120, 45]))\n",
    "\n",
    "# materials\n",
    "using NamedArrays\n",
    "materials_mat = [ 3 2 1\n",
    "                  2 4 1 ]\n",
    "materials = NamedArray(materials_mat, (crops, reqs), (\"crop\",\"req\"))\n",
    ";"
   ]
  },
  {
   "cell_type": "code",
   "execution_count": 70,
   "metadata": {
    "collapsed": false
   },
   "outputs": [
    {
     "name": "stdout",
     "output_type": "stream",
     "text": [
      "acres: 1 dimensions:\n",
      "[:wheat] = 19.99999999999999\n",
      "[ :corn] = 20.000000000000007\n",
      "Total profit is: $10000.0\n"
     ]
    }
   ],
   "source": [
    "using JuMP, Clp\n",
    "m = Model(solver = ClpSolver())\n",
    "\n",
    "@variable(m, acres[crops] >= 0)\n",
    "@expression(m, total_profit, sum(profit[s]*acres[s] for s in crops))\n",
    "    @constraint(m, constr[i in reqs], sum(materials[s,i]*acres[s] for s in crops) <= quant_avail[i] )\n",
    "@objective(m, Max, total_profit)\n",
    "        \n",
    "solve(m)\n",
    "println(getvalue(acres))\n",
    "println(\"Total profit is: \\$\", getvalue(total_profit))"
   ]
  },
  {
   "cell_type": "markdown",
   "metadata": {},
   "source": [
    "##### Part (c)"
   ]
  },
  {
   "cell_type": "code",
   "execution_count": 30,
   "metadata": {
    "collapsed": false
   },
   "outputs": [
    {
     "data": {
      "image/png": "[encoded data removed]",
      "text/plain": [
       "PyPlot.Figure(PyObject <matplotlib.figure.Figure object at 0x7f41a5df9450>)"
      ]
     },
     "metadata": {},
     "output_type": "display_data"
    },
    {
     "data": {
      "text/plain": [
       "1-element Array{PyCall.PyObject,1}:\n",
       " PyObject <matplotlib.patches.Polygon object at 0x7f41a66fa6d0>"
      ]
     },
     "execution_count": 30,
     "metadata": {},
     "output_type": "execute_result"
    }
   ],
   "source": [
    "using PyPlot\n",
    "\n",
    "w = linspace(0,45)\n",
    "c = (100/2) - (3/2)w\n",
    "plot(w,c,\"b-\", linewidth = 1)\n",
    "c = (120/4) - (2/4)w\n",
    "plot(w,c,\"g-\", linewidth = 1)\n",
    "c = 45 - w\n",
    "plot(w,c,\"purple\", linewidth = 1)\n",
    "plot([45 for i in 0:45],0:45 , \"c-\", linewidth = 1)\n",
    "plot(0:45, [45 for i in 0:45] , \"c-\", linewidth = 1)\n",
    "xlim((0,45))\n",
    "ylim((0,45))\n",
    "\n",
    "c = (10000/300) - (200/300)w\n",
    "plot(w,c,\"r--\", linewidth = 1)\n",
    "text(3, 33, \"p=10000\", color = \"r\", rotation = -28)\n",
    "\n",
    "\n",
    "c = (8000/300) - (200/300)w\n",
    "plot(w,c,\"r--\", linewidth = 1)\n",
    "text(3, 26, \"p=8000\", color = \"r\", rotation = -28)\n",
    "\n",
    "\n",
    "c = (5000/300) - (200/300)w\n",
    "plot(w,c,\"r--\", linewidth = 1)\n",
    "text(3, 16, \"p=5000\", color = \"r\", rotation = -28)\n",
    "\n",
    "\n",
    "c = (2000/300) - (200/300)w\n",
    "plot(w,c,\"r--\", linewidth = 1)\n",
    "text(3, 6, \"p=2000\", color = \"r\", rotation = -28)\n",
    "\n",
    "\n",
    "\n",
    "xlabel(\"Number of Acres of Wheat\")\n",
    "ylabel(\"Number of Acres of Corn\")\n",
    "\n",
    "\n",
    "text(20.4,20.4,\"(20,20)\",fontsize = 10)\n",
    "plot([20 for i in 0:20], 0:20, \"w--\", linewidth = 1)\n",
    "plot(0:20,[20 for i in 0:20], \"w--\", linewidth = 1)\n",
    "\n",
    "\n",
    "x = [0,0,20,33.2,0]\n",
    "y = [0,30,20,0,0]\n",
    "fill(x,y, \"#7D90BA\" )\n"
   ]
  },
  {
   "cell_type": "markdown",
   "metadata": {},
   "source": [
    "#### Analysis\n",
    "\n",
    "* By inputting different values of p (profit) into the equation $$ p=200w+300c $$ we can arrive at different solutions along the line within the feasible set to satisfy the equations.\n",
    "* At p=10000, we notice that the profit line exactly intersects the point (20,20). Since p=10000 is the maximum possible profit that can be obtained such that the solutions are within the feasible set, the point (20,20) gives us the optimal number of acres of wheat and corn. Hence, we would need 20 acres of corn and 20 acres of wheat to attain the optimal amount of profit\n",
    "* By comparing our answers to those obtained using the LP models, we notice that they are identical"
   ]
  }
 ],
 "metadata": {
  "kernelspec": {
   "display_name": "Julia 0.6.2",
   "language": "julia",
   "name": "julia-0.6"
  },
  "language_info": {
   "file_extension": ".jl",
   "mimetype": "application/julia",
   "name": "julia",
   "version": "0.6.2"
  }
 },
 "nbformat": 4,
 "nbformat_minor": 0
}
