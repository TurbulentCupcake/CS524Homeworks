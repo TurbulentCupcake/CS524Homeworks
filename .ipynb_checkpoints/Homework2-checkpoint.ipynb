{
 "cells": [
  {
   "cell_type": "markdown",
   "metadata": {
    "collapsed": true
   },
   "source": [
    "# Homework 2"
   ]
  },
  {
   "cell_type": "markdown",
   "metadata": {},
   "source": [
    "\n",
    "### Question 2"
   ]
  },
  {
   "cell_type": "markdown",
   "metadata": {},
   "source": [
    "#### Part (a)\n",
    "\n",
    "\n",
    "* $$\\mathbf{A} = \\left[\\begin{array}\n",
    "{rrr}\n",
    "-6 & 1 & -1 & 1 & -1 & 1 & 0 & 0 & 0 & 0 \\\\\n",
    "7 & 0 & 1 & 0 & 0 & 0 & 0 & 0 & 0 & 0 \\\\\n",
    "0 & 1 & 1 & 0 & 0 & 0 & 1 & 0 & 0 & 0 \\\\\n",
    "1 & 0 & 0 & 0 & 0 & 0 & 0 & 1 & 0 & 0 \\\\\n",
    "0 & 1 & 0 & 0 & 0 & 0 & 0 & 0 & 1 & 0 \\\\\n",
    "0 & 0 & 1 & 0 & 0 & 0 & 0 & 0 & 0 & 1\n",
    "\\end{array}\\right]\n",
    "$$\n",
    "\n",
    "\n",
    "\n",
    "* $$\\mathbf{x} = \\left[\\begin{array}\n",
    "{rrr}\n",
    "z_2' \\\\\n",
    "z_3' \\\\\n",
    "z_4' \\\\\n",
    "u \\\\\n",
    "v \\\\\n",
    "s_1 \\\\\n",
    "s_2 \\\\\n",
    "s_3 \\\\\n",
    "s_4 \\\\\n",
    "s_5\n",
    "\\end{array}\\right]\n",
    "$$\n",
    "\n",
    "\n",
    "\n",
    "* $$\\mathbf{b} = \\left[\\begin{array}\n",
    "{rrr}\n",
    "-4 \\\\\n",
    "14 \\\\\n",
    "5 \\\\\n",
    "5 \\\\\n",
    "5 \\\\\n",
    "2\n",
    "\\end{array}\\right]\n",
    "$$\n",
    "\n",
    "\n",
    "\n",
    "\n",
    "* $$\\mathbf{c} = \\left[\\begin{array}\n",
    "{rrr}\n",
    "1 \\\\\n",
    "0 \\\\\n",
    "0 \\\\\n",
    "-3 \\\\\n",
    "3 \\\\\n",
    "0 \\\\\n",
    "0 \\\\\n",
    "0 \\\\\n",
    "0 \\\\ \n",
    "0\n",
    "\\end{array}\\right]\n",
    "$$\n",
    "\n",
    "The variables in vector x relate as follows\n",
    "* $$ z_2' = z_2 + 1 $$\n",
    "* $$ z_3' = z_3 + 1 $$\n",
    "* $$ z_4' = z_4 + 2 $$\n",
    "* $$ z_1 = u - v $$\n",
    "* S1,S2,S3,S4 and S5 are all values of slack\n",
    "\n"
   ]
  },
  {
   "cell_type": "markdown",
   "metadata": {},
   "source": [
    "#### Part (b)\n",
    "\n",
    "Here, we will solve the above general form of the LP and compare our results to the form given in the question"
   ]
  },
  {
   "cell_type": "code",
   "execution_count": 8,
   "metadata": {
    "collapsed": false
   },
   "outputs": [
    {
     "name": "stdout",
     "output_type": "stream",
     "text": [
      "Min -3 u + 3 v + z2 - 1\n",
      "Subject to\n",
      " -6 z2 + z3 - z4 + u - v + s1 = -4\n",
      " 7 z2 + z4 = 14\n",
      " z3 + z4 + s2 = 5\n",
      " z2 + s3 = 6\n",
      " z3 + s4 = 6\n",
      " z4 + s5 = 4\n",
      " z2 ≥ 0\n",
      " z3 ≥ 0\n",
      " z4 ≥ 0\n",
      " u ≥ 0\n",
      " v ≥ 0\n",
      " s1 ≥ 0\n",
      " s2 ≥ 0\n",
      " s3 ≥ 0\n",
      " s4 ≥ 0\n",
      " s5 ≥ 0\n",
      "\n",
      "Optimal\n",
      "\n",
      "z1 = 8.571428571428571\n",
      "z2 = 0.4285714285714286\n",
      "z3 = -1.0\n",
      "z4 = 2.0\n"
     ]
    }
   ],
   "source": [
    "using JuMP, Clp\n",
    "\n",
    "m = Model(solver=ClpSolver())\n",
    "\n",
    "# declare the variables\n",
    "# here, we use the variables z2, z3 and z4 as substitutes for\n",
    "# the variables z2',z3' and z4' as describes in the vector x \n",
    "# in part (a)\n",
    "@variable(m, z2 >= 0)\n",
    "@variable(m, z3 >= 0)\n",
    "@variable(m, z4 >= 0)\n",
    "@variable(m, u >= 0)\n",
    "@variable(m, v >= 0)\n",
    "@variable(m, s1 >= 0)\n",
    "@variable(m, s2 >= 0)\n",
    "@variable(m, s3 >= 0)\n",
    "@variable(m, s4 >= 0)\n",
    "@variable(m, s5 >= 0)\n",
    "\n",
    "# declare constraints\n",
    "@constraint(m, -6z2 + z3 - z4 + (u-v) + s1 == -4)\n",
    "@constraint(m, 7z2  + z4 == 14)\n",
    "@constraint(m, z3 + z4 + s2 == 5)\n",
    "@constraint(m, z2 + s3 == 6)\n",
    "@constraint(m, z3 + s4 == 6)\n",
    "@constraint(m, z4 + s5 == 4)\n",
    "\n",
    "# declare the objective function\n",
    "@objective(m, Min, -(3(u-v) - (z2 - 1)))\n",
    "\n",
    "# solve the problem\n",
    "status = solve(m)\n",
    "\n",
    "#print values\n",
    "println(m)\n",
    "println(status)\n",
    "println()\n",
    "println(\"z1 = \", getvalue(u-v))\n",
    "println(\"z2 = \", getvalue(z2-1))\n",
    "println(\"z3 = \",getvalue(z3-1))\n",
    "println(\"z4 = \", getvalue(z4-2))"
   ]
  },
  {
   "cell_type": "markdown",
   "metadata": {},
   "source": [
    "solving the original problem from the question:"
   ]
  },
  {
   "cell_type": "code",
   "execution_count": 7,
   "metadata": {
    "collapsed": false
   },
   "outputs": [
    {
     "name": "stdout",
     "output_type": "stream",
     "text": [
      "Max 3 z1 - z2\n",
      "Subject to\n",
      " -z1 + 6 z2 - z3 + z4 ≥ -3\n",
      " 7 z2 + z4 = 5\n",
      " z3 + z4 ≤ 2\n",
      " z1\n",
      " -1 ≤ z2 ≤ 5\n",
      " -1 ≤ z3 ≤ 5\n",
      " -2 ≤ z4 ≤ 2\n",
      "\n",
      "Optimal\n",
      "\n",
      "z1 = 8.571428571428571\n",
      "z2 = 0.42857142857142855\n",
      "z3 = -1.0\n",
      "z4 = 2.0\n"
     ]
    }
   ],
   "source": [
    "m = Model(solver=ClpSolver())\n",
    "\n",
    "@variable(m, z1)\n",
    "@variable(m, -1 <= z2 <= 5)\n",
    "@variable(m, -1 <= z3 <= 5)\n",
    "@variable(m, -2 <= z4 <= 2) \n",
    "\n",
    "@constraint(m, -z1 + 6z2 - z3 + z4 >= -3)\n",
    "@constraint(m, 7z2 + z4 == 5)\n",
    "@constraint(m, z3 + z4 <= 2)\n",
    "\n",
    "@objective(m, Max, 3z1 - z2)\n",
    "\n",
    "status = solve(m)\n",
    "\n",
    "#print values\n",
    "println(m)\n",
    "println(status)\n",
    "println()\n",
    "println(\"z1 = \", getvalue(z1))\n",
    "println(\"z2 = \", getvalue(z2))\n",
    "println(\"z3 = \",getvalue(z3))\n",
    "println(\"z4 = \", getvalue(z4))"
   ]
  },
  {
   "cell_type": "markdown",
   "metadata": {},
   "source": [
    "### Question 3"
   ]
  },
  {
   "cell_type": "code",
   "execution_count": 7,
   "metadata": {
    "collapsed": false
   },
   "outputs": [
    {
     "name": "stdout",
     "output_type": "stream",
     "text": [
      "Optimal\n",
      "\n",
      "The optimal composition of materials are as follows: \n",
      "Iron Alloy 1 = 400.0 tons\n",
      "Iron Alloy 2 = 0.0 tons\n",
      "Iron Alloy 3 = 0.0 tons\n",
      "Copper 1 = 0.0 tons\n",
      "Copper 2 = 2.8873239436619715 tons\n",
      "Aluminum 1 = 57.042253521126796 tons\n",
      "Aluminum 2 = 0.0 tons\n",
      "Minimum cost = $92101.40845070423\n"
     ]
    }
   ],
   "source": [
    "using JuMP, Clp\n",
    "\n",
    "m = Model(solver=ClpSolver())\n",
    "\n",
    "#declare the variables\n",
    "@variable(m, 0 <= Ia1 <= 400)\n",
    "@variable(m, 0 <= Ia2 <= 300)\n",
    "@variable(m, 0 <= Ia3 <= 600)\n",
    "@variable(m, 0 <= c1 <= 500)\n",
    "@variable(m, 0 <= c2 <= 200)\n",
    "@variable(m, 0 <= a1 <= 300)\n",
    "@variable(m, 0 <= a2 <= 250)\n",
    "\n",
    "\n",
    "#create constraints\n",
    "@constraint(m, 10 <= 0.025*Ia1 + 0.03*Ia2 <= 15)\n",
    "@constraint(m, 2 <= 0.003*Ia3 + 0.9*c1 + 0.96*c2 + 0.004*a1 + 0.006*a2 <= 3)\n",
    "@constraint(m, 6 <= 0.013*Ia1 + 0.008*Ia2 + 0.04*c2 + 0.012*a1 <= 8.25)\n",
    "\n",
    "# create the objective function\n",
    "@objective(m, Min, 200*Ia1 + 250*Ia2 + 150*Ia3 + 220*c1 + 240*c2 + 200*a1 + 165*a2)\n",
    "\n",
    "status = solve(m)\n",
    "\n",
    "println(status)\n",
    "println()\n",
    "println(\"The optimal composition of materials are as follows: \")\n",
    "println(\"Iron Alloy 1 = \",getvalue(Ia1),\" tons\")\n",
    "println(\"Iron Alloy 2 = \",getvalue(Ia2),\" tons\")\n",
    "println(\"Iron Alloy 3 = \",getvalue(Ia3),\" tons\")\n",
    "println(\"Copper 1 = \",getvalue(c1),\" tons\")\n",
    "println(\"Copper 2 = \",getvalue(c2),\" tons\")\n",
    "println(\"Aluminum 1 = \",getvalue(a1),\" tons\")\n",
    "println(\"Aluminum 2 = \",getvalue(a2),\" tons\")\n",
    "println(\"Minimum cost = \\$\",getobjectivevalue(m))"
   ]
  },
  {
   "cell_type": "markdown",
   "metadata": {},
   "source": [
    "### Question 4"
   ]
  },
  {
   "cell_type": "code",
   "execution_count": 47,
   "metadata": {
    "collapsed": true
   },
   "outputs": [],
   "source": [
    "# STARTER CODE FOR STIGLER'S DIET PROBLEM\n",
    "using NamedArrays\n",
    "\n",
    "# import Stigler's data set\n",
    "raw = readcsv(\"stigler.csv\")\n",
    "(m,n) = size(raw)\n",
    "\n",
    "\n",
    "n_nutrients = 2:n      # columns containing nutrients\n",
    "n_foods = 3:m          # rows containing food names\n",
    "\n",
    "nutrients = raw[1,n_nutrients][:]   # the list of nutrients (convert to 1-D array)\n",
    "foods = raw[n_foods,1][:]           # the list of foods (convert to 1-D array)\n",
    "\n",
    "lower = Dict( zip(nutrients,raw[2,n_nutrients]) )\n",
    "\n",
    "data = NamedArray( raw[n_foods,n_nutrients], (foods,nutrients), (\"foods\",\"nutrients\") );\n"
   ]
  },
  {
   "cell_type": "code",
   "execution_count": 66,
   "metadata": {
    "collapsed": false
   },
   "outputs": [
    {
     "name": "stdout",
     "output_type": "stream",
     "text": [
      "Optimal\n",
      "food: 1 dimensions:\n",
      "[ Wheat Flour (Enriched)] = 0.02951906167648827\n",
      "[               Macaroni] = 0.0\n",
      "[Wheat Cereal (Enriched)] = 0.0\n",
      "[            Corn Flakes] = 0.0\n",
      "[              Corn Meal] = 0.0\n",
      "[           Hominy Grits] = 0.0\n",
      "[                   Rice] = 0.0\n",
      "[            Rolled Oats] = 0.0\n",
      "[ White Bread (Enriched)] = 0.0\n",
      "[      Whole Wheat Bread] = 0.0\n",
      "[              Rye Bread] = 0.0\n",
      "[             Pound Cake] = 0.0\n",
      "[          Soda Crackers] = 0.0\n",
      "[                   Milk] = 0.0\n",
      "[  Evaporated Milk (can)] = 0.0\n",
      "[                 Butter] = 0.0\n",
      "[          Oleomargarine] = 0.0\n",
      "[                   Eggs] = 0.0\n",
      "[       Cheese (Cheddar)] = 0.0\n",
      "[                  Cream] = 0.0\n",
      "[          Peanut Butter] = 0.0\n",
      "[             Mayonnaise] = 0.0\n",
      "[                 Crisco] = 0.0\n",
      "[                   Lard] = 0.0\n",
      "[          Sirloin Steak] = 0.0\n",
      "[            Round Steak] = 0.0\n",
      "[              Rib Roast] = 0.0\n",
      "[            Chuck Roast] = 0.0\n",
      "[                  Plate] = 0.0\n",
      "[           Liver (Beef)] = 0.0018925572907052643\n",
      "[            Leg of Lamb] = 0.0\n",
      "[       Lamb Chops (Rib)] = 0.0\n",
      "[             Pork Chops] = 0.0\n",
      "[        Pork Loin Roast] = 0.0\n",
      "[                  Bacon] = 0.0\n",
      "[            Ham, smoked] = 0.0\n",
      "[              Salt Pork] = 0.0\n",
      "[       Roasting Chicken] = 0.0\n",
      "[           Veal Cutlets] = 0.0\n",
      "[     Salmon, Pink (can)] = 0.0\n",
      "[                 Apples] = 0.0\n",
      "[                Bananas] = 0.0\n",
      "[                 Lemons] = 0.0\n",
      "[                Oranges] = 0.0\n",
      "[            Green Beans] = 0.0\n",
      "[                Cabbage] = 0.011214435246144865\n",
      "[                Carrots] = 0.0\n",
      "[                 Celery] = 0.0\n",
      "[                Lettuce] = 0.0\n",
      "[                 Onions] = 0.0\n",
      "[               Potatoes] = 0.0\n",
      "[                Spinach] = 0.005007660466725203\n",
      "[         Sweet Potatoes] = 0.0\n",
      "[          Peaches (can)] = 0.0\n",
      "[            Pears (can)] = 0.0\n",
      "[        Pineapple (can)] = 0.0\n",
      "[        Asparagus (can)] = 0.0\n",
      "[      Green Beans (can)] = 0.0\n",
      "[   Pork and Beans (can)] = 0.0\n",
      "[             Corn (can)] = 0.0\n",
      "[             Peas (can)] = 0.0\n",
      "[         Tomatoes (can)] = 0.0\n",
      "[      Tomato Soup (can)] = 0.0\n",
      "[         Peaches, Dried] = 0.0\n",
      "[          Prunes, Dried] = 0.0\n",
      "[         Raisins, Dried] = 0.0\n",
      "[            Peas, Dried] = 0.0\n",
      "[      Lima Beans, Dried] = 0.0\n",
      "[      Navy Beans, Dried] = 0.061028563526693246\n",
      "[                 Coffee] = 0.0\n",
      "[                    Tea] = 0.0\n",
      "[                  Cocoa] = 0.0\n",
      "[              Chocolate] = 0.0\n",
      "[                  Sugar] = 0.0\n",
      "[             Corn Syrup] = 0.0\n",
      "[               Molasses] = 0.0\n",
      "[   Strawberry Preserves] = 0.0\n"
     ]
    }
   ],
   "source": [
    "using JuMP, Clp\n",
    "m = Model(solver=ClpSolver())\n",
    "\n",
    "\n",
    "@variable(m, food[foods] >= 0)    \n",
    "#create a constraint for the obtaining the correct amount of nutrients\n",
    "@constraint(m, constr[i in nutrients], sum(data[f,i]*food[f] for f in foods) >= lower[i])\n",
    "# set the objective\n",
    "@objective(m, Min, sum(food))\n",
    "\n",
    "    status = solve(m)\n",
    "    println(status)\n",
    "    println(getvalue(food))"
   ]
  }
 ],
 "metadata": {
  "kernelspec": {
   "display_name": "Julia 0.6.2",
   "language": "julia",
   "name": "julia-0.6"
  },
  "language_info": {
   "file_extension": ".jl",
   "mimetype": "application/julia",
   "name": "julia",
   "version": "0.6.2"
  }
 },
 "nbformat": 4,
 "nbformat_minor": 0
}
