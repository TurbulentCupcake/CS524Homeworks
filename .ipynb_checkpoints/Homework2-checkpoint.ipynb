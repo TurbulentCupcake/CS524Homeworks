{
 "cells": [
  {
   "cell_type": "markdown",
   "metadata": {
    "collapsed": true
   },
   "source": [
    "# Homework 2"
   ]
  },
  {
   "cell_type": "markdown",
   "metadata": {},
   "source": [
    "\n",
    "### Question 2"
   ]
  },
  {
   "cell_type": "markdown",
   "metadata": {},
   "source": [
    "#### Part (a)\n",
    "\n",
    "\n",
    "* $$\\mathbf{A} = \\left[\\begin{array}\n",
    "{rrr}\n",
    "-6 & 1 & -1 & 1 & -1 & 1 & 0 & 0 & 0 & 0 \\\\\n",
    "7 & 0 & 1 & 0 & 0 & 0 & 0 & 0 & 0 & 0 \\\\\n",
    "0 & 1 & 1 & 0 & 0 & 0 & 1 & 0 & 0 & 0 \\\\\n",
    "1 & 0 & 0 & 0 & 0 & 0 & 0 & 1 & 0 & 0 \\\\\n",
    "0 & 1 & 0 & 0 & 0 & 0 & 0 & 0 & 1 & 0 \\\\\n",
    "0 & 0 & 1 & 0 & 0 & 0 & 0 & 0 & 0 & 1\n",
    "\\end{array}\\right]\n",
    "$$\n",
    "\n",
    "\n",
    "\n",
    "* $$\\mathbf{x} = \\left[\\begin{array}\n",
    "{rrr}\n",
    "z_2' \\\\\n",
    "z_3' \\\\\n",
    "z_4' \\\\\n",
    "u \\\\\n",
    "v \\\\\n",
    "s_1 \\\\\n",
    "s_2 \\\\\n",
    "s_3 \\\\\n",
    "s_4 \\\\\n",
    "s_5\n",
    "\\end{array}\\right]\n",
    "$$\n",
    "\n",
    "\n",
    "\n",
    "* $$\\mathbf{b} = \\left[\\begin{array}\n",
    "{rrr}\n",
    "-4 \\\\\n",
    "14 \\\\\n",
    "5 \\\\\n",
    "5 \\\\\n",
    "5 \\\\\n",
    "2\n",
    "\\end{array}\\right]\n",
    "$$\n",
    "\n",
    "\n",
    "\n",
    "\n",
    "* $$\\mathbf{c} = \\left[\\begin{array}\n",
    "{rrr}\n",
    "1 \\\\\n",
    "0 \\\\\n",
    "0 \\\\\n",
    "-3 \\\\\n",
    "3 \\\\\n",
    "0 \\\\\n",
    "0 \\\\\n",
    "0 \\\\\n",
    "0 \\\\ \n",
    "0\n",
    "\\end{array}\\right]\n",
    "$$\n",
    "\n",
    "The variables in vector x relate as follows\n",
    "* $$ z_2' = z_2 + 1 $$\n",
    "* $$ z_3' = z_3 + 1 $$\n",
    "* $$ z_4' = z_4 + 2 $$\n",
    "* $$ z_1 = u - v $$\n",
    "* S1,S2,S3,S4 and S5 are all values of slack\n",
    "\n"
   ]
  },
  {
   "cell_type": "markdown",
   "metadata": {},
   "source": [
    "#### Part (b)\n",
    "\n",
    "Here, we will solve the above general form of the LP and compare our results to the form given in the question"
   ]
  },
  {
   "cell_type": "code",
   "execution_count": 8,
   "metadata": {
    "collapsed": false
   },
   "outputs": [
    {
     "name": "stdout",
     "output_type": "stream",
     "text": [
      "Min -3 u + 3 v + z2 - 1\n",
      "Subject to\n",
      " -6 z2 + z3 - z4 + u - v + s1 = -4\n",
      " 7 z2 + z4 = 14\n",
      " z3 + z4 + s2 = 5\n",
      " z2 + s3 = 6\n",
      " z3 + s4 = 6\n",
      " z4 + s5 = 4\n",
      " z2 ≥ 0\n",
      " z3 ≥ 0\n",
      " z4 ≥ 0\n",
      " u ≥ 0\n",
      " v ≥ 0\n",
      " s1 ≥ 0\n",
      " s2 ≥ 0\n",
      " s3 ≥ 0\n",
      " s4 ≥ 0\n",
      " s5 ≥ 0\n",
      "\n",
      "Optimal\n",
      "\n",
      "z1 = 8.571428571428571\n",
      "z2 = 0.4285714285714286\n",
      "z3 = -1.0\n",
      "z4 = 2.0\n"
     ]
    }
   ],
   "source": [
    "using JuMP, Clp\n",
    "\n",
    "m = Model(solver=ClpSolver())\n",
    "\n",
    "# declare the variables\n",
    "# here, we use the variables z2, z3 and z4 as substitutes for\n",
    "# the variables z2',z3' and z4' as describes in the vector x \n",
    "# in part (a)\n",
    "@variable(m, z2 >= 0)\n",
    "@variable(m, z3 >= 0)\n",
    "@variable(m, z4 >= 0)\n",
    "@variable(m, u >= 0)\n",
    "@variable(m, v >= 0)\n",
    "@variable(m, s1 >= 0)\n",
    "@variable(m, s2 >= 0)\n",
    "@variable(m, s3 >= 0)\n",
    "@variable(m, s4 >= 0)\n",
    "@variable(m, s5 >= 0)\n",
    "\n",
    "# declare constraints\n",
    "@constraint(m, -6z2 + z3 - z4 + (u-v) + s1 == -4)\n",
    "@constraint(m, 7z2  + z4 == 14)\n",
    "@constraint(m, z3 + z4 + s2 == 5)\n",
    "@constraint(m, z2 + s3 == 6)\n",
    "@constraint(m, z3 + s4 == 6)\n",
    "@constraint(m, z4 + s5 == 4)\n",
    "\n",
    "# declare the objective function\n",
    "@objective(m, Min, -(3(u-v) - (z2 - 1)))\n",
    "\n",
    "# solve the problem\n",
    "status = solve(m)\n",
    "\n",
    "#print values\n",
    "println(m)\n",
    "println(status)\n",
    "println()\n",
    "println(\"z1 = \", getvalue(u-v))\n",
    "println(\"z2 = \", getvalue(z2-1))\n",
    "println(\"z3 = \",getvalue(z3-1))\n",
    "println(\"z4 = \", getvalue(z4-2))"
   ]
  },
  {
   "cell_type": "markdown",
   "metadata": {},
   "source": [
    "solving the original problem from the question:"
   ]
  },
  {
   "cell_type": "code",
   "execution_count": 7,
   "metadata": {
    "collapsed": false
   },
   "outputs": [
    {
     "name": "stdout",
     "output_type": "stream",
     "text": [
      "Max 3 z1 - z2\n",
      "Subject to\n",
      " -z1 + 6 z2 - z3 + z4 ≥ -3\n",
      " 7 z2 + z4 = 5\n",
      " z3 + z4 ≤ 2\n",
      " z1\n",
      " -1 ≤ z2 ≤ 5\n",
      " -1 ≤ z3 ≤ 5\n",
      " -2 ≤ z4 ≤ 2\n",
      "\n",
      "Optimal\n",
      "\n",
      "z1 = 8.571428571428571\n",
      "z2 = 0.42857142857142855\n",
      "z3 = -1.0\n",
      "z4 = 2.0\n"
     ]
    }
   ],
   "source": [
    "m = Model(solver=ClpSolver())\n",
    "\n",
    "@variable(m, z1)\n",
    "@variable(m, -1 <= z2 <= 5)\n",
    "@variable(m, -1 <= z3 <= 5)\n",
    "@variable(m, -2 <= z4 <= 2) \n",
    "\n",
    "@constraint(m, -z1 + 6z2 - z3 + z4 >= -3)\n",
    "@constraint(m, 7z2 + z4 == 5)\n",
    "@constraint(m, z3 + z4 <= 2)\n",
    "\n",
    "@objective(m, Max, 3z1 - z2)\n",
    "\n",
    "status = solve(m)\n",
    "\n",
    "#print values\n",
    "println(m)\n",
    "println(status)\n",
    "println()\n",
    "println(\"z1 = \", getvalue(z1))\n",
    "println(\"z2 = \", getvalue(z2))\n",
    "println(\"z3 = \",getvalue(z3))\n",
    "println(\"z4 = \", getvalue(z4))"
   ]
  },
  {
   "cell_type": "markdown",
   "metadata": {},
   "source": [
    "### Question 3"
   ]
  },
  {
   "cell_type": "code",
   "execution_count": 1,
   "metadata": {
    "collapsed": false
   },
   "outputs": [
    {
     "ename": "LoadError",
     "evalue": "\u001b[91mUndefVarError: Model not defined\u001b[39m",
     "output_type": "error",
     "traceback": [
      "\u001b[91mUndefVarError: Model not defined\u001b[39m",
      "",
      "Stacktrace:",
      " [1] \u001b[1minclude_string\u001b[22m\u001b[22m\u001b[1m(\u001b[22m\u001b[22m::String, ::String\u001b[1m)\u001b[22m\u001b[22m at \u001b[1m./loading.jl:522\u001b[22m\u001b[22m"
     ]
    }
   ],
   "source": [
    "\n",
    "\n",
    "m = Model(solver=ClpSolver())\n",
    "\n",
    "#declare the variables\n",
    "@variable(m, 0 <= Ia1 <= 400)\n",
    "@variable(m, 0 <= Ia2 <= 300)\n",
    "@variable(m, 0 <= Ia3 <= 600)\n",
    "@variable(m, 0 <= c1 <= 500)\n",
    "@variable(m, 0 <= c2 <= 200)\n",
    "@variable(m, 0 <= a1 <= 300)\n",
    "@variable(m, 0 <= a2 <= 250)\n",
    "\n",
    "\n",
    "#create constraints\n",
    "@constraint(m, 10 <= 0.025*Ia1 + 0.03*Ia2 <= 15)\n",
    "@constraint(m, 2 <= 0.003*Ia3 + 0.9*c1 + 0.96*c2 + 0.004*a1 + 0.006*a2 <= 3)\n",
    "@constraint(m, 6 <= 0.013*Ia1 + 0.008*Ia2 + 0.04*c2 + 0.012*a1 <= 8.25)\n",
    "\n",
    "# create the objective function\n",
    "@objective(m, Min, 200*Ia1 + 250*Ia2 + 150*Ia3 + 220*c1 + 240*c2 + 200*a1 + 165*a2)\n",
    "\n",
    "status = solve(m)\n",
    "\n",
    "println(status)\n",
    "println()\n",
    "println(\"The optimal composition of materials are as follows: \")\n",
    "println(\"Iron Alloy 1 = \",getvalue(Ia1),\" tons\")\n",
    "println(\"Iron Alloy 2 = \",getvalue(Ia2),\" tons\")\n",
    "println(\"Iron Alloy 3 = \",getvalue(Ia3),\" tons\")\n",
    "println(\"Copper 1 = \",getvalue(c1),\" tons\")\n",
    "println(\"Copper 2 = \",getvalue(c2),\" tons\")\n",
    "println(\"Aluminum 1 = \",getvalue(a1),\" tons\")\n",
    "println(\"Aluminum 2 = \",getvalue(a2),\" tons\")"
   ]
  },
  {
   "cell_type": "code",
   "execution_count": null,
   "metadata": {
    "collapsed": true
   },
   "outputs": [],
   "source": []
  }
 ],
 "metadata": {
  "kernelspec": {
   "display_name": "Julia 0.6.2",
   "language": "julia",
   "name": "julia-0.6"
  },
  "language_info": {
   "file_extension": ".jl",
   "mimetype": "application/julia",
   "name": "julia",
   "version": "0.6.2"
  }
 },
 "nbformat": 4,
 "nbformat_minor": 0
}
