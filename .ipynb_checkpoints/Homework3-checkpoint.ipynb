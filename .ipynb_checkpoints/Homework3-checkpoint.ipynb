{
 "cells": [
  {
   "cell_type": "markdown",
   "metadata": {},
   "source": [
    "#### Question 4"
   ]
  },
  {
   "cell_type": "markdown",
   "metadata": {},
   "source": [
    "The following equations describe the polygon that make the edges of the site\n",
    "\n",
    "\n",
    "* $$ 2x - 3y <= 2100 $$ \n",
    "* $$ 3x - y <= 1500 $$\n",
    "* $$ y >= 0 $$\n",
    "* $$ x >= 0 $$\n",
    "* $$ y <= 500 $$\n",
    "\n",
    "Based on these equations, we must construct a Chebyshev circle that is optimal and atleast 50 meters away from the edge of the polygon described by the above equations. \n"
   ]
  },
  {
   "cell_type": "code",
   "execution_count": 77,
   "metadata": {},
   "outputs": [
    {
     "name": "stdout",
     "output_type": "stream",
     "text": [
      "Optimal\n",
      "The coordinates of the Chebychev center are: [250.0, 250.0]\n",
      "The largest possible radius is 250.0\n"
     ]
    }
   ],
   "source": [
    "A = [2 -3; 3 -1; 0 1; -1 0; 0 -1];\n",
    "b = [2100; 1500; 500; 0; 0]\n",
    "\n",
    "using JuMP, Clp\n",
    "\n",
    "m = Model(solver=ClpSolver())\n",
    "@variable(m, r >= 50)\n",
    "@variable(m, x[1:2])\n",
    "for i = 1:size(A,1)\n",
    "    @constraint(m, A[i,:]'*x + r*norm(A[i,:]) <= b[i])\n",
    "end\n",
    "@objective(m, Max, r)\n",
    "\n",
    "status = solve(m)\n",
    "center = getvalue(x)\n",
    "radius = getvalue(r)\n",
    "\n",
    "println(status)\n",
    "println(\"The coordinates of the Chebychev center are: \", center)\n",
    "println(\"The largest possible radius is \", radius)\n"
   ]
  },
  {
   "cell_type": "code",
   "execution_count": 79,
   "metadata": {},
   "outputs": [
    {
     "ename": "LoadError",
     "evalue": "\u001b[91mUndefVarError: - not defined\u001b[39m",
     "output_type": "error",
     "traceback": [
      "\u001b[91mUndefVarError: - not defined\u001b[39m",
      "",
      "Stacktrace:",
      " [1] \u001b[1minclude_string\u001b[22m\u001b[22m\u001b[1m(\u001b[22m\u001b[22m::String, ::String\u001b[1m)\u001b[22m\u001b[22m at \u001b[1m./loading.jl:522\u001b[22m\u001b[22m"
     ]
    }
   ],
   "source": [
    "3-1"
   ]
  },
  {
   "cell_type": "code",
   "execution_count": null,
   "metadata": {},
   "outputs": [],
   "source": []
  }
 ],
 "metadata": {
  "kernelspec": {
   "display_name": "Julia 0.6.2",
   "language": "julia",
   "name": "julia-0.6"
  },
  "language_info": {
   "file_extension": ".jl",
   "mimetype": "application/julia",
   "name": "julia",
   "version": "0.6.2"
  }
 },
 "nbformat": 4,
 "nbformat_minor": 2
}
