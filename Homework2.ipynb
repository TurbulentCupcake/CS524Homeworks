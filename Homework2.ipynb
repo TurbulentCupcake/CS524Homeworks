{
 "cells": [
  {
   "cell_type": "markdown",
   "metadata": {
    "collapsed": true
   },
   "source": [
    "# Homework 2"
   ]
  },
  {
   "cell_type": "markdown",
   "metadata": {},
   "source": [
    "### Question 1"
   ]
  },
  {
   "cell_type": "markdown",
   "metadata": {},
   "source": [
    "Matrices that describe a cube:\n",
    "* $$\\mathbf{A} = \\left[\\begin{array}\n",
    "{rrr}\n",
    "1 & 0 & 0 \\\\\n",
    "-1 & 0 & 0 \\\\\n",
    "0 & 1 & 0 \\\\\n",
    "0 & -1 & 0 \\\\\n",
    "0 & 0 & 1 \\\\\n",
    "0 & 0 & -1\n",
    "\\end{array}\\right]\n",
    "$$\n",
    "\n",
    "\n",
    "* $$\\mathbf{b} = \\left[\\begin{array}\n",
    "{rrr}\n",
    "1 \\\\\n",
    "1 \\\\\n",
    "1 \\\\\n",
    "1 \\\\\n",
    "1 \\\\\n",
    "1\n",
    "\\end{array}\\right]\n",
    "$$\n",
    "\n",
    "Matrices that describe an octahedron\n",
    "* $$\\mathbf{A} = \\left[\\begin{array}\n",
    "{rrr}\n",
    "1 & 1 & 1 \\\\\n",
    "1 & 1 & -1 \\\\\n",
    "1 & -1 & 1 \\\\\n",
    "1 & -1 & -1 \\\\\n",
    "-1 & 1 & 1 \\\\\n",
    "-1 & 1 & -1 \\\\\n",
    "-1 & -1 & 1 \\\\\n",
    "-1 & -1 & -1\n",
    "\\end{array}\\right]\n",
    "$$\n",
    "\n",
    "\n",
    "* $$\\mathbf{b} = \\left[\\begin{array}\n",
    "{rrr}\n",
    "1 \\\\\n",
    "1 \\\\\n",
    "1 \\\\\n",
    "1 \\\\ \n",
    "1 \\\\\n",
    "1 \\\\\n",
    "1 \\\\\n",
    "1\n",
    "\\end{array}\\right]\n",
    "$$"
   ]
  },
  {
   "cell_type": "markdown",
   "metadata": {},
   "source": [
    "\n",
    "### Question 2"
   ]
  },
  {
   "cell_type": "markdown",
   "metadata": {},
   "source": [
    "#### Part (a)\n",
    "\n",
    "\n",
    "* $$\\mathbf{A} = \\left[\\begin{array}\n",
    "{rrr}\n",
    "-6 & 1 & -1 & 1 & -1 & 1 & 0 & 0 & 0 & 0 \\\\\n",
    "7 & 0 & 1 & 0 & 0 & 0 & 0 & 0 & 0 & 0 \\\\\n",
    "0 & 1 & 1 & 0 & 0 & 0 & 1 & 0 & 0 & 0 \\\\\n",
    "1 & 0 & 0 & 0 & 0 & 0 & 0 & 1 & 0 & 0 \\\\\n",
    "0 & 1 & 0 & 0 & 0 & 0 & 0 & 0 & 1 & 0 \\\\\n",
    "0 & 0 & 1 & 0 & 0 & 0 & 0 & 0 & 0 & 1\n",
    "\\end{array}\\right]\n",
    "$$\n",
    "\n",
    "\n",
    "\n",
    "* $$\\mathbf{x} = \\left[\\begin{array}\n",
    "{rrr}\n",
    "z_2' \\\\\n",
    "z_3' \\\\\n",
    "z_4' \\\\\n",
    "u \\\\\n",
    "v \\\\\n",
    "s_1 \\\\\n",
    "s_2 \\\\\n",
    "s_3 \\\\\n",
    "s_4 \\\\\n",
    "s_5\n",
    "\\end{array}\\right]\n",
    "$$\n",
    "\n",
    "\n",
    "\n",
    "* $$\\mathbf{b} = \\left[\\begin{array}\n",
    "{rrr}\n",
    "-4 \\\\\n",
    "14 \\\\\n",
    "5 \\\\\n",
    "5 \\\\\n",
    "5 \\\\\n",
    "2\n",
    "\\end{array}\\right]\n",
    "$$\n",
    "\n",
    "\n",
    "\n",
    "\n",
    "* $$\\mathbf{c} = \\left[\\begin{array}\n",
    "{rrr}\n",
    "1 \\\\\n",
    "0 \\\\\n",
    "0 \\\\\n",
    "-3 \\\\\n",
    "3 \\\\\n",
    "0 \\\\\n",
    "0 \\\\\n",
    "0 \\\\\n",
    "0 \\\\ \n",
    "0\n",
    "\\end{array}\\right]\n",
    "$$\n",
    "\n",
    "The variables in vector x relate as follows\n",
    "* $$ z_2' = z_2 + 1 $$\n",
    "* $$ z_3' = z_3 + 1 $$\n",
    "* $$ z_4' = z_4 + 2 $$\n",
    "* $$ z_1 = u - v $$\n",
    "* S1,S2,S3,S4 and S5 are all values of slack\n",
    "\n"
   ]
  },
  {
   "cell_type": "markdown",
   "metadata": {},
   "source": [
    "#### Part (b)\n",
    "\n",
    "Here, we will solve the above general form of the LP and compare our results to the form given in the question"
   ]
  },
  {
   "cell_type": "code",
   "execution_count": 8,
   "metadata": {
    "collapsed": false
   },
   "outputs": [
    {
     "name": "stdout",
     "output_type": "stream",
     "text": [
      "Min -3 u + 3 v + z2 - 1\n",
      "Subject to\n",
      " -6 z2 + z3 - z4 + u - v + s1 = -4\n",
      " 7 z2 + z4 = 14\n",
      " z3 + z4 + s2 = 5\n",
      " z2 + s3 = 6\n",
      " z3 + s4 = 6\n",
      " z4 + s5 = 4\n",
      " z2 ≥ 0\n",
      " z3 ≥ 0\n",
      " z4 ≥ 0\n",
      " u ≥ 0\n",
      " v ≥ 0\n",
      " s1 ≥ 0\n",
      " s2 ≥ 0\n",
      " s3 ≥ 0\n",
      " s4 ≥ 0\n",
      " s5 ≥ 0\n",
      "\n",
      "Optimal\n",
      "\n",
      "z1 = 8.571428571428571\n",
      "z2 = 0.4285714285714286\n",
      "z3 = -1.0\n",
      "z4 = 2.0\n"
     ]
    }
   ],
   "source": [
    "using JuMP, Clp\n",
    "\n",
    "m = Model(solver=ClpSolver())\n",
    "\n",
    "# declare the variables\n",
    "# here, we use the variables z2, z3 and z4 as substitutes for\n",
    "# the variables z2',z3' and z4' as describes in the vector x \n",
    "# in part (a)\n",
    "@variable(m, z2 >= 0)\n",
    "@variable(m, z3 >= 0)\n",
    "@variable(m, z4 >= 0)\n",
    "@variable(m, u >= 0)\n",
    "@variable(m, v >= 0)\n",
    "@variable(m, s1 >= 0)\n",
    "@variable(m, s2 >= 0)\n",
    "@variable(m, s3 >= 0)\n",
    "@variable(m, s4 >= 0)\n",
    "@variable(m, s5 >= 0)\n",
    "\n",
    "# declare constraints\n",
    "@constraint(m, -6z2 + z3 - z4 + (u-v) + s1 == -4)\n",
    "@constraint(m, 7z2  + z4 == 14)\n",
    "@constraint(m, z3 + z4 + s2 == 5)\n",
    "@constraint(m, z2 + s3 == 6)\n",
    "@constraint(m, z3 + s4 == 6)\n",
    "@constraint(m, z4 + s5 == 4)\n",
    "\n",
    "# declare the objective function\n",
    "@objective(m, Min, -(3(u-v) - (z2 - 1)))\n",
    "\n",
    "# solve the problem\n",
    "status = solve(m)\n",
    "\n",
    "#print values\n",
    "println(m)\n",
    "println(status)\n",
    "println()\n",
    "println(\"z1 = \", getvalue(u-v))\n",
    "println(\"z2 = \", getvalue(z2-1))\n",
    "println(\"z3 = \",getvalue(z3-1))\n",
    "println(\"z4 = \", getvalue(z4-2))"
   ]
  },
  {
   "cell_type": "markdown",
   "metadata": {},
   "source": [
    "solving the original problem from the question:"
   ]
  },
  {
   "cell_type": "code",
   "execution_count": 7,
   "metadata": {
    "collapsed": false
   },
   "outputs": [
    {
     "name": "stdout",
     "output_type": "stream",
     "text": [
      "Max 3 z1 - z2\n",
      "Subject to\n",
      " -z1 + 6 z2 - z3 + z4 ≥ -3\n",
      " 7 z2 + z4 = 5\n",
      " z3 + z4 ≤ 2\n",
      " z1\n",
      " -1 ≤ z2 ≤ 5\n",
      " -1 ≤ z3 ≤ 5\n",
      " -2 ≤ z4 ≤ 2\n",
      "\n",
      "Optimal\n",
      "\n",
      "z1 = 8.571428571428571\n",
      "z2 = 0.42857142857142855\n",
      "z3 = -1.0\n",
      "z4 = 2.0\n"
     ]
    }
   ],
   "source": [
    "m = Model(solver=ClpSolver())\n",
    "\n",
    "@variable(m, z1)\n",
    "@variable(m, -1 <= z2 <= 5)\n",
    "@variable(m, -1 <= z3 <= 5)\n",
    "@variable(m, -2 <= z4 <= 2) \n",
    "\n",
    "@constraint(m, -z1 + 6z2 - z3 + z4 >= -3)\n",
    "@constraint(m, 7z2 + z4 == 5)\n",
    "@constraint(m, z3 + z4 <= 2)\n",
    "\n",
    "@objective(m, Max, 3z1 - z2)\n",
    "\n",
    "status = solve(m)\n",
    "\n",
    "#print values\n",
    "println(m)\n",
    "println(status)\n",
    "println()\n",
    "println(\"z1 = \", getvalue(z1))\n",
    "println(\"z2 = \", getvalue(z2))\n",
    "println(\"z3 = \",getvalue(z3))\n",
    "println(\"z4 = \", getvalue(z4))"
   ]
  },
  {
   "cell_type": "markdown",
   "metadata": {},
   "source": [
    "Hence, we can see that both methods of solving the same question result in the same answer."
   ]
  },
  {
   "cell_type": "markdown",
   "metadata": {},
   "source": [
    "### Question 3"
   ]
  },
  {
   "cell_type": "code",
   "execution_count": 7,
   "metadata": {
    "collapsed": false
   },
   "outputs": [
    {
     "name": "stdout",
     "output_type": "stream",
     "text": [
      "Optimal\n",
      "\n",
      "The optimal composition of materials are as follows: \n",
      "Iron Alloy 1 = 400.0 tons\n",
      "Iron Alloy 2 = 0.0 tons\n",
      "Iron Alloy 3 = 0.0 tons\n",
      "Copper 1 = 0.0 tons\n",
      "Copper 2 = 2.8873239436619715 tons\n",
      "Aluminum 1 = 57.042253521126796 tons\n",
      "Aluminum 2 = 0.0 tons\n",
      "Minimum cost = $92101.40845070423\n"
     ]
    }
   ],
   "source": [
    "using JuMP, Clp\n",
    "\n",
    "m = Model(solver=ClpSolver())\n",
    "\n",
    "#declare the variables\n",
    "@variable(m, 0 <= Ia1 <= 400)\n",
    "@variable(m, 0 <= Ia2 <= 300)\n",
    "@variable(m, 0 <= Ia3 <= 600)\n",
    "@variable(m, 0 <= c1 <= 500)\n",
    "@variable(m, 0 <= c2 <= 200)\n",
    "@variable(m, 0 <= a1 <= 300)\n",
    "@variable(m, 0 <= a2 <= 250)\n",
    "\n",
    "\n",
    "#create constraints\n",
    "@constraint(m, 10 <= 0.025*Ia1 + 0.03*Ia2 <= 15)\n",
    "@constraint(m, 2 <= 0.003*Ia3 + 0.9*c1 + 0.96*c2 + 0.004*a1 + 0.006*a2 <= 3)\n",
    "@constraint(m, 6 <= 0.013*Ia1 + 0.008*Ia2 + 0.04*c2 + 0.012*a1 <= 8.25)\n",
    "\n",
    "# create the objective function\n",
    "@objective(m, Min, 200*Ia1 + 250*Ia2 + 150*Ia3 + 220*c1 + 240*c2 + 200*a1 + 165*a2)\n",
    "\n",
    "status = solve(m)\n",
    "\n",
    "println(status)\n",
    "println()\n",
    "println(\"The optimal composition of materials are as follows: \")\n",
    "println(\"Iron Alloy 1 = \",getvalue(Ia1),\" tons\")\n",
    "println(\"Iron Alloy 2 = \",getvalue(Ia2),\" tons\")\n",
    "println(\"Iron Alloy 3 = \",getvalue(Ia3),\" tons\")\n",
    "println(\"Copper 1 = \",getvalue(c1),\" tons\")\n",
    "println(\"Copper 2 = \",getvalue(c2),\" tons\")\n",
    "println(\"Aluminum 1 = \",getvalue(a1),\" tons\")\n",
    "println(\"Aluminum 2 = \",getvalue(a2),\" tons\")\n",
    "println(\"Minimum cost = \\$\",getobjectivevalue(m))"
   ]
  },
  {
   "cell_type": "markdown",
   "metadata": {},
   "source": [
    "### Question 4"
   ]
  },
  {
   "cell_type": "markdown",
   "metadata": {},
   "source": [
    "#### part (a)"
   ]
  },
  {
   "cell_type": "code",
   "execution_count": 130,
   "metadata": {
    "collapsed": true
   },
   "outputs": [],
   "source": [
    "# STARTER CODE FOR STIGLER'S DIET PROBLEM\n",
    "using NamedArrays\n",
    "\n",
    "# import Stigler's data set\n",
    "raw = readcsv(\"stigler.csv\")\n",
    "(m,n) = size(raw)\n",
    "\n",
    "\n",
    "n_nutrients = 2:n      # columns containing nutrients\n",
    "n_foods = 3:m          # rows containing food names\n",
    "\n",
    "nutrients = raw[1,n_nutrients][:]   # the list of nutrients (convert to 1-D array)\n",
    "foods = raw[n_foods,1][:]           # the list of foods (convert to 1-D array)\n",
    "\n",
    "lower = Dict( zip(nutrients,raw[2,n_nutrients]) )\n",
    "\n",
    "data = NamedArray( raw[n_foods,n_nutrients], (foods,nutrients), (\"foods\",\"nutrients\") );\n"
   ]
  },
  {
   "cell_type": "code",
   "execution_count": 131,
   "metadata": {
    "collapsed": false
   },
   "outputs": [
    {
     "name": "stdout",
     "output_type": "stream",
     "text": [
      "Optimal\n",
      "Cost of diet per day = 0.10866227820675685\n",
      "Cost of diet per year = 39.66173154546625\n"
     ]
    }
   ],
   "source": [
    "using JuMP, Clp\n",
    "m = Model(solver=ClpSolver())\n",
    "\n",
    "\n",
    "@variable(m, food[foods] >= 0)    \n",
    "#create a constraint for the obtaining the correct amount of nutrients\n",
    "@constraint(m, constr[i in nutrients], sum(data[f,i]*food[f] for f in foods) >= lower[i])\n",
    "# The objective function\n",
    "@objective(m, Min, sum(food))\n",
    "\n",
    "status = solve(m)\n",
    "println(status)\n",
    "    println(\"Cost of diet per day = \", getvalue(sum(food)))\n",
    "    println(\"Cost of diet per year = \", getvalue(sum(food))*365)"
   ]
  },
  {
   "cell_type": "markdown",
   "metadata": {},
   "source": [
    "#### part (b)"
   ]
  },
  {
   "cell_type": "markdown",
   "metadata": {},
   "source": [
    "* For a diet consisting of only vegetarian food, we must remove from\n",
    "data all of those rows that belong to non-vegetarian food. \n",
    "* Upon closer inspection, we notice that rows 24 through 40 and row 59 correspond to non-vegetarian foods.\n",
    "Hence, the rows corresponding to these indices in the \"data\" matrix must be removed and the model must be resolved"
   ]
  },
  {
   "cell_type": "code",
   "execution_count": 132,
   "metadata": {
    "collapsed": false
   },
   "outputs": [
    {
     "name": "stdout",
     "output_type": "stream",
     "text": [
      "Optimal\n",
      "Cost of diet per day = 0.10903743657646292\n",
      "Cost of diet per year = 39.79866435040896\n"
     ]
    }
   ],
   "source": [
    "excludeIndices = collect(24:40)\n",
    "push!(excludeIndices, 59) # 59th index of the data matrix is pork and beans \n",
    "\n",
    "existingIndices =  collect(1:length(foods))\n",
    "finalIndices = symdiff(excludeIndices,existingIndices)\n",
    "\n",
    "data = data[finalIndices,:]\n",
    "foods = foods[finalIndices]\n",
    "\n",
    "m = Model(solver=ClpSolver())\n",
    "@variable(m, food[foods] >= 0)    \n",
    "#create a constraint for the obtaining the correct amount of nutrients\n",
    "@constraint(m, constr[i in nutrients], sum(data[f,i]*food[f] for f in foods) >= lower[i])\n",
    "# The objective function\n",
    "@objective(m, Min, sum(food))\n",
    "\n",
    "    \n",
    "status = solve(m)\n",
    "println(status)\n",
    "println(\"Cost of diet per day = \", getvalue(sum(food)))\n",
    "println(\"Cost of diet per year = \", getvalue(sum(food))*365)\n",
    "    "
   ]
  }
 ],
 "metadata": {
  "kernelspec": {
   "display_name": "Julia 0.6.2",
   "language": "julia",
   "name": "julia-0.6"
  },
  "language_info": {
   "file_extension": ".jl",
   "mimetype": "application/julia",
   "name": "julia",
   "version": "0.6.2"
  }
 },
 "nbformat": 4,
 "nbformat_minor": 0
}
